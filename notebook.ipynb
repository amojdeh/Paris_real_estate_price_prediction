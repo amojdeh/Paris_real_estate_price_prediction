{
 "cells": [
  {
   "cell_type": "markdown",
   "metadata": {},
   "source": [
    "# Land value regression problem:\n",
    "### Problem statement:\n",
    "Based on the dataset of real estate transactions carried out on the entire French territory since 2014, we want to be able to create a model that predicts value / unit area. \n",
    "### Method:\n",
    "For this problem, we're using a k Nearest Neighbor regressor algorithm. The features are the land coordinates and the label is value / area.\n",
    "### Challenges:\n",
    "The data is unknown to the author. I need to learn the data myself first to be able to create a suitable model."
   ]
  },
  {
   "cell_type": "markdown",
   "metadata": {},
   "source": [
    "## Importing libraries"
   ]
  },
  {
   "cell_type": "code",
   "execution_count": 1,
   "metadata": {},
   "outputs": [],
   "source": [
    "import matplotlib.pyplot as plt\n",
    "import geopandas as gpd\n",
    "import earthpy as et\n",
    "import numpy as np\n",
    "import pandas as pd\n",
    "from shapely import wkt\n",
    "from pyproj import Geod\n",
    "from shapely.geometry import Polygon\n",
    "from math import *\n",
    "from sklearn.utils import shuffle\n",
    "from sklearn.model_selection import train_test_split\n",
    "from sklearn.metrics import mean_absolute_error, mean_absolute_percentage_error\n",
    "from sklearn import neighbors\n",
    "%matplotlib inline"
   ]
  },
  {
   "cell_type": "markdown",
   "metadata": {},
   "source": [
    "#### Preventing the notebook from showing warnings (it is just a personal preference)."
   ]
  },
  {
   "cell_type": "code",
   "execution_count": 2,
   "metadata": {},
   "outputs": [],
   "source": [
    "import warnings\n",
    "warnings.filterwarnings('ignore')"
   ]
  },
  {
   "cell_type": "markdown",
   "metadata": {},
   "source": [
    "## Data\n",
    "There are three files associated with this problem:\n",
    "1. **valeursfoncieres-2020.txt**, which includes all the real estate transactions carried out in the French territory since 2014. This file does not include geographical coordinates, but it does include land value and parsed IDs of the land.\n",
    "2. **parcelles.zip**, which includes the geographical information (coordinates) of the lands, followed by the land ID which can be used to match with the land value in the text file.\n",
    "3. **notice-descriptive-du-fichier-dvf-20210809_EN.pdf**, which is a text, explaining the data inside the txt file. "
   ]
  },
  {
   "cell_type": "markdown",
   "metadata": {},
   "source": [
    "### Getting to know the data"
   ]
  },
  {
   "cell_type": "markdown",
   "metadata": {},
   "source": [
    "#### Reading the shape file using Geopandas into a DataFrame"
   ]
  },
  {
   "cell_type": "code",
   "execution_count": 3,
   "metadata": {},
   "outputs": [],
   "source": [
    "parcelles = gpd.read_file(r'parcelles.shp')"
   ]
  },
  {
   "cell_type": "markdown",
   "metadata": {},
   "source": [
    "The only column with non-object data type is contenance which we see when we use the \"describe\" method:"
   ]
  },
  {
   "cell_type": "code",
   "execution_count": 4,
   "metadata": {},
   "outputs": [
    {
     "data": {
      "text/html": [
       "<div>\n",
       "<style scoped>\n",
       "    .dataframe tbody tr th:only-of-type {\n",
       "        vertical-align: middle;\n",
       "    }\n",
       "\n",
       "    .dataframe tbody tr th {\n",
       "        vertical-align: top;\n",
       "    }\n",
       "\n",
       "    .dataframe thead th {\n",
       "        text-align: right;\n",
       "    }\n",
       "</style>\n",
       "<table border=\"1\" class=\"dataframe\">\n",
       "  <thead>\n",
       "    <tr style=\"text-align: right;\">\n",
       "      <th></th>\n",
       "      <th>contenance</th>\n",
       "    </tr>\n",
       "  </thead>\n",
       "  <tbody>\n",
       "    <tr>\n",
       "      <th>count</th>\n",
       "      <td>77720.000000</td>\n",
       "    </tr>\n",
       "    <tr>\n",
       "      <th>mean</th>\n",
       "      <td>841.145188</td>\n",
       "    </tr>\n",
       "    <tr>\n",
       "      <th>std</th>\n",
       "      <td>4785.523759</td>\n",
       "    </tr>\n",
       "    <tr>\n",
       "      <th>min</th>\n",
       "      <td>0.000000</td>\n",
       "    </tr>\n",
       "    <tr>\n",
       "      <th>25%</th>\n",
       "      <td>172.000000</td>\n",
       "    </tr>\n",
       "    <tr>\n",
       "      <th>50%</th>\n",
       "      <td>297.000000</td>\n",
       "    </tr>\n",
       "    <tr>\n",
       "      <th>75%</th>\n",
       "      <td>570.000000</td>\n",
       "    </tr>\n",
       "    <tr>\n",
       "      <th>max</th>\n",
       "      <td>481843.000000</td>\n",
       "    </tr>\n",
       "  </tbody>\n",
       "</table>\n",
       "</div>"
      ],
      "text/plain": [
       "          contenance\n",
       "count   77720.000000\n",
       "mean      841.145188\n",
       "std      4785.523759\n",
       "min         0.000000\n",
       "25%       172.000000\n",
       "50%       297.000000\n",
       "75%       570.000000\n",
       "max    481843.000000"
      ]
     },
     "execution_count": 4,
     "metadata": {},
     "output_type": "execute_result"
    }
   ],
   "source": [
    "parcelles.describe()"
   ]
  },
  {
   "cell_type": "markdown",
   "metadata": {},
   "source": [
    "The DataFrame information. As it can be seen here, there are no \"NaN\" values inside the parcelles DataFrame.  \n",
    "Out of 9 columns, 7 have strings data type, 1 is a geometry object and one is an integer."
   ]
  },
  {
   "cell_type": "code",
   "execution_count": 5,
   "metadata": {},
   "outputs": [
    {
     "name": "stdout",
     "output_type": "stream",
     "text": [
      "<class 'geopandas.geodataframe.GeoDataFrame'>\n",
      "RangeIndex: 77720 entries, 0 to 77719\n",
      "Data columns (total 9 columns):\n",
      " #   Column      Non-Null Count  Dtype   \n",
      "---  ------      --------------  -----   \n",
      " 0   id          77720 non-null  object  \n",
      " 1   commune     77720 non-null  object  \n",
      " 2   prefixe     77720 non-null  object  \n",
      " 3   section     77720 non-null  object  \n",
      " 4   numero      77720 non-null  object  \n",
      " 5   contenance  77720 non-null  int64   \n",
      " 6   created     77720 non-null  object  \n",
      " 7   updated     77720 non-null  object  \n",
      " 8   geometry    77720 non-null  geometry\n",
      "dtypes: geometry(1), int64(1), object(7)\n",
      "memory usage: 5.3+ MB\n"
     ]
    }
   ],
   "source": [
    "parcelles.info()"
   ]
  },
  {
   "cell_type": "markdown",
   "metadata": {},
   "source": [
    "First look at the parcelles data:"
   ]
  },
  {
   "cell_type": "code",
   "execution_count": 6,
   "metadata": {},
   "outputs": [
    {
     "data": {
      "text/html": [
       "<div>\n",
       "<style scoped>\n",
       "    .dataframe tbody tr th:only-of-type {\n",
       "        vertical-align: middle;\n",
       "    }\n",
       "\n",
       "    .dataframe tbody tr th {\n",
       "        vertical-align: top;\n",
       "    }\n",
       "\n",
       "    .dataframe thead th {\n",
       "        text-align: right;\n",
       "    }\n",
       "</style>\n",
       "<table border=\"1\" class=\"dataframe\">\n",
       "  <thead>\n",
       "    <tr style=\"text-align: right;\">\n",
       "      <th></th>\n",
       "      <th>id</th>\n",
       "      <th>commune</th>\n",
       "      <th>prefixe</th>\n",
       "      <th>section</th>\n",
       "      <th>numero</th>\n",
       "      <th>contenance</th>\n",
       "      <th>created</th>\n",
       "      <th>updated</th>\n",
       "      <th>geometry</th>\n",
       "    </tr>\n",
       "  </thead>\n",
       "  <tbody>\n",
       "    <tr>\n",
       "      <th>0</th>\n",
       "      <td>75101000AB0002</td>\n",
       "      <td>75101</td>\n",
       "      <td>000</td>\n",
       "      <td>AB</td>\n",
       "      <td>2</td>\n",
       "      <td>45688</td>\n",
       "      <td>2006-10-06</td>\n",
       "      <td>2016-07-21</td>\n",
       "      <td>POLYGON ((650234.002 6862851.438, 650234.279 6...</td>\n",
       "    </tr>\n",
       "    <tr>\n",
       "      <th>1</th>\n",
       "      <td>75101000AB0001</td>\n",
       "      <td>75101</td>\n",
       "      <td>000</td>\n",
       "      <td>AB</td>\n",
       "      <td>1</td>\n",
       "      <td>1731</td>\n",
       "      <td>2006-10-06</td>\n",
       "      <td>2016-07-21</td>\n",
       "      <td>POLYGON ((650350.149 6862820.696, 650346.848 6...</td>\n",
       "    </tr>\n",
       "    <tr>\n",
       "      <th>2</th>\n",
       "      <td>75101000AC0002</td>\n",
       "      <td>75101</td>\n",
       "      <td>000</td>\n",
       "      <td>AC</td>\n",
       "      <td>2</td>\n",
       "      <td>49342</td>\n",
       "      <td>2006-10-06</td>\n",
       "      <td>2016-07-21</td>\n",
       "      <td>POLYGON ((650388.357 6862947.325, 650294.933 6...</td>\n",
       "    </tr>\n",
       "    <tr>\n",
       "      <th>3</th>\n",
       "      <td>75101000AC0001</td>\n",
       "      <td>75101</td>\n",
       "      <td>000</td>\n",
       "      <td>AC</td>\n",
       "      <td>1</td>\n",
       "      <td>993</td>\n",
       "      <td>2006-10-06</td>\n",
       "      <td>2016-07-21</td>\n",
       "      <td>POLYGON ((650448.438 6863052.996, 650447.612 6...</td>\n",
       "    </tr>\n",
       "    <tr>\n",
       "      <th>4</th>\n",
       "      <td>75101000AD0001</td>\n",
       "      <td>75101</td>\n",
       "      <td>000</td>\n",
       "      <td>AD</td>\n",
       "      <td>1</td>\n",
       "      <td>64760</td>\n",
       "      <td>2006-10-06</td>\n",
       "      <td>2016-07-21</td>\n",
       "      <td>POLYGON ((650915.759 6862686.995, 650811.369 6...</td>\n",
       "    </tr>\n",
       "  </tbody>\n",
       "</table>\n",
       "</div>"
      ],
      "text/plain": [
       "               id commune prefixe section numero  contenance     created  \\\n",
       "0  75101000AB0002   75101     000      AB      2       45688  2006-10-06   \n",
       "1  75101000AB0001   75101     000      AB      1        1731  2006-10-06   \n",
       "2  75101000AC0002   75101     000      AC      2       49342  2006-10-06   \n",
       "3  75101000AC0001   75101     000      AC      1         993  2006-10-06   \n",
       "4  75101000AD0001   75101     000      AD      1       64760  2006-10-06   \n",
       "\n",
       "      updated                                           geometry  \n",
       "0  2016-07-21  POLYGON ((650234.002 6862851.438, 650234.279 6...  \n",
       "1  2016-07-21  POLYGON ((650350.149 6862820.696, 650346.848 6...  \n",
       "2  2016-07-21  POLYGON ((650388.357 6862947.325, 650294.933 6...  \n",
       "3  2016-07-21  POLYGON ((650448.438 6863052.996, 650447.612 6...  \n",
       "4  2016-07-21  POLYGON ((650915.759 6862686.995, 650811.369 6...  "
      ]
     },
     "execution_count": 6,
     "metadata": {},
     "output_type": "execute_result"
    }
   ],
   "source": [
    "parcelles.head()"
   ]
  },
  {
   "cell_type": "markdown",
   "metadata": {},
   "source": [
    "The geometry column seems to have the polygon coordinates of the land.  \n",
    "Looking at some of the properties of the polygon:"
   ]
  },
  {
   "cell_type": "code",
   "execution_count": 7,
   "metadata": {},
   "outputs": [
    {
     "data": {
      "text/plain": [
       "[(650234.002498897, 6862851.438287678),\n",
       " (650234.2791882373, 6862852.047509729),\n",
       " (650233.9401427881, 6862853.573860253),\n",
       " (650231.3118064834, 6862865.316904626),\n",
       " (650230.9727626524, 6862866.843255492),\n",
       " (650230.5709981532, 6862867.046867041),\n",
       " (650232.2019779927, 6862870.724689496),\n",
       " (650231.6394889163, 6862871.007521732),\n",
       " (650287.167182263, 6862977.5050188145),\n",
       " (650287.8172176641, 6862977.165840372),\n",
       " (650288.5114828765, 6862978.561001522),\n",
       " (650289.4880437208, 6862980.365179981),\n",
       " (650288.3923298983, 6862980.919462877),\n",
       " (650294.9332776567, 6862993.373327287),\n",
       " (650388.3574574998, 6862947.325183289),\n",
       " (650446.240667786, 6862918.807359269),\n",
       " (650567.5829730285, 6862859.0015006885),\n",
       " (650567.1201653692, 6862858.071371834),\n",
       " (650497.6480209865, 6862717.930246055),\n",
       " (650487.3916250899, 6862723.133084894),\n",
       " (650234.002498897, 6862851.438287678)]"
      ]
     },
     "execution_count": 7,
     "metadata": {},
     "output_type": "execute_result"
    }
   ],
   "source": [
    "## coordinate values for the first polygon with id: 75101000AB0002\n",
    "list(parcelles['geometry'][0].exterior.coords)"
   ]
  },
  {
   "cell_type": "markdown",
   "metadata": {},
   "source": [
    "In order to create features out of the polygon, I use the centroid function to find the centre of each polygon, e.g.:"
   ]
  },
  {
   "cell_type": "code",
   "execution_count": 8,
   "metadata": {},
   "outputs": [
    {
     "data": {
      "text/plain": [
       "'POINT (650400.1932244125 6862856.473951302)'"
      ]
     },
     "execution_count": 8,
     "metadata": {},
     "output_type": "execute_result"
    }
   ],
   "source": [
    "parcelles['geometry'][0].centroid.wkt"
   ]
  },
  {
   "cell_type": "markdown",
   "metadata": {},
   "source": [
    "The above method returns a string which includes the centroid coordinates."
   ]
  },
  {
   "cell_type": "markdown",
   "metadata": {},
   "source": [
    "Now we call two of the polygons without any methods:"
   ]
  },
  {
   "cell_type": "code",
   "execution_count": 9,
   "metadata": {},
   "outputs": [
    {
     "data": {
      "image/svg+xml": "<svg xmlns=\"http://www.w3.org/2000/svg\" xmlns:xlink=\"http://www.w3.org/1999/xlink\" width=\"300\" height=\"300\" viewBox=\"650217.0905191582 6862704.449767061 363.9729328653775 302.40403922088444\" preserveAspectRatio=\"xMinYMin meet\"><g transform=\"matrix(1,0,0,-1,0,13725711.303573342)\"><path fill-rule=\"evenodd\" fill=\"#66cc99\" stroke=\"#555555\" stroke-width=\"2.4264862191025167\" opacity=\"0.6\" d=\"M 650234.002498897,6862851.438287678 L 650234.2791882373,6862852.047509729 L 650233.9401427881,6862853.573860253 L 650231.3118064834,6862865.316904626 L 650230.9727626524,6862866.843255492 L 650230.5709981532,6862867.046867041 L 650232.2019779927,6862870.724689496 L 650231.6394889163,6862871.007521732 L 650287.167182263,6862977.5050188145 L 650287.8172176641,6862977.165840372 L 650288.5114828765,6862978.561001522 L 650289.4880437208,6862980.365179981 L 650288.3923298983,6862980.919462877 L 650294.9332776567,6862993.373327287 L 650388.3574574998,6862947.325183289 L 650446.240667786,6862918.807359269 L 650567.5829730285,6862859.0015006885 L 650567.1201653692,6862858.071371834 L 650497.6480209865,6862717.930246055 L 650487.3916250899,6862723.133084894 L 650234.002498897,6862851.438287678 z M 650350.1493749963,6862820.695679087 L 650351.2563745163,6862823.165946468 L 650352.2781912617,6862822.545589935 L 650353.3672772152,6862824.637931979 L 650352.1914973618,6862825.270727872 L 650354.4290235969,6862829.532743425 L 650355.6268111847,6862828.899759353 L 650356.7303764294,6862830.969738071 L 650355.5472613927,6862831.602596182 L 650356.8806280041,6862833.948605067 L 650354.2289579889,6862835.294607677 L 650355.2065698574,6862837.221105919 L 650319.1788775402,6862855.488750357 L 650319.6193356657,6862856.374571455 L 650317.9832044048,6862857.222602338 L 650317.5132110096,6862856.314794704 L 650316.4175662488,6862856.880190918 L 650316.6564218056,6862857.356301556 L 650316.8518330096,6862857.899504716 L 650316.9364399737,6862858.354698359 L 650316.9594972586,6862858.476820416 L 650316.9864645626,6862859.054828238 L 650316.9670312025,6862859.355234454 L 650316.889576744,6862859.733978185 L 650316.7190420256,6862860.380399844 L 650316.5683221462,6862860.770891951 L 650316.3523404957,6862861.250903667 L 650316.0332722793,6862861.687319628 L 650315.6698061546,6862862.079636473 L 650315.2910003323,6862862.394245029 L 650314.9626887748,6862862.6083406685 L 650314.4877510269,6862862.834813946 L 650313.9830875112,6862863.017062299 L 650313.4924285727,6862863.121350687 L 650312.9425087764,6862863.159427525 L 650312.4285063797,6862863.108236463 L 650311.9433714092,6862863.001197916 L 650311.4794816423,6862862.805017308 L 650311.199375343,6862862.6517402185 L 650310.4768151533,6862862.235378842 L 650310.1516431437,6862861.9601685535 L 650309.8778236688,6862861.684517783 L 650309.5070136412,6862861.220659298 L 650309.3882056256,6862861.054878689 L 650309.1419181525,6862860.567712102 L 650308.0387481581,6862861.110934519 L 650308.6207869048,6862862.25129993 L 650306.4584643367,6862863.337367589 L 650305.8911928157,6862862.207995682 L 650288.9075172171,6862870.827145878 L 650289.4893679648,6862871.945271124 L 650285.4790436559,6862873.9812844405 L 650284.8971923285,6862872.863159579 L 650270.0901778693,6862880.351687222 L 650269.1273121785,6862878.436195884 L 650266.6875692568,6862879.680340111 L 650265.5583448017,6862877.188038393 L 650264.3678175632,6862877.809859176 L 650263.3009081108,6862875.739582338 L 650263.4689692731,6862875.660299463 L 650264.5134438572,6862875.117572388 L 650262.3270297365,6862870.8329107575 L 650261.2823636275,6862871.353399877 L 650261.1216384369,6862871.432619825 L 650260.0693033515,6862869.351098544 L 650261.2525912919,6862868.740459074 L 650259.9634964054,6862866.427451095 L 650263.279849385,6862864.742098142 L 650263.4216215768,6862865.018880493 L 650271.8806215738,6862860.731783669 L 650271.7535218513,6862860.454875167 L 650272.6664277281,6862859.9688790385 L 650272.8007680485,6862860.2346054185 L 650281.267022569,6862855.936340322 L 650281.1329688476,6862855.703971247 L 650282.0679799543,6862855.228906886 L 650282.2096560363,6862855.49457051 L 650290.6466754482,6862851.2076903 L 650290.497568142,6862850.93097027 L 650291.4401077062,6862850.478082813 L 650291.581592639,6862850.721508328 L 650299.6972684683,6862846.60419881 L 650300.0333934799,6862846.445635211 L 650299.8990541053,6862846.179908229 L 650300.8120599727,6862845.705035752 L 650300.9464947126,6862845.981881918 L 650309.4566166499,6862841.661042536 L 650309.3222776024,6862841.395315344 L 650310.2427164762,6862840.931500606 L 650310.3698147638,6862841.208409909 L 650310.6986042708,6862841.0499098655 L 650318.8288839865,6862836.921382442 L 650318.6871137895,6862836.644598798 L 650319.6075541617,6862836.180785567 L 650319.7564697169,6862836.435267989 L 650328.2007852183,6862832.13726104 L 650328.0666375102,6862831.893771758 L 650329.0088970535,6862831.407532994 L 650329.1507622215,6862831.695436042 L 650337.5803239701,6862827.386449569 L 650337.460753474,6862827.131715131 L 650338.381292173,6862826.679024079 L 650338.5229663361,6862826.94468902 L 650346.9818864331,6862822.635464819 L 650346.8475486883,6862822.369736799 L 650350.1493749963,6862820.695679087 z\" /></g></svg>",
      "text/plain": [
       "<shapely.geometry.polygon.Polygon at 0x1c8132aebb0>"
      ]
     },
     "execution_count": 9,
     "metadata": {},
     "output_type": "execute_result"
    }
   ],
   "source": [
    "parcelles['geometry'][0]"
   ]
  },
  {
   "cell_type": "code",
   "execution_count": 10,
   "metadata": {},
   "outputs": [
    {
     "data": {
      "image/svg+xml": "<svg xmlns=\"http://www.w3.org/2000/svg\" xmlns:xlink=\"http://www.w3.org/1999/xlink\" width=\"300\" height=\"300\" viewBox=\"650550.7582890666 6862670.170402297 454.2664669730002 355.70463238004595\" preserveAspectRatio=\"xMinYMin meet\"><g transform=\"matrix(1,0,0,-1,0,13725696.045436975)\"><path fill-rule=\"evenodd\" fill=\"#66cc99\" stroke=\"#555555\" stroke-width=\"3.028443113153335\" opacity=\"0.6\" d=\"M 650915.7592440435,6862686.995086259 L 650811.3686091763,6862738.576450079 L 650775.9487010594,6862756.07990401 L 650568.0066631025,6862858.786605544 L 650567.5829730285,6862859.0015006885 L 650635.9399197013,6862996.083984496 L 650637.9477696253,6863000.114550718 L 650638.5595470394,6863001.310296458 L 650642.4110997344,6863009.0503507145 L 650650.6785773179,6863004.665354564 L 650650.7686921341,6863004.909226645 L 650795.6414158868,6862932.386591172 L 650849.8993984304,6862905.238013338 L 650850.0016310682,6862905.181546017 L 650854.8598061826,6862902.749531967 L 650856.8689129737,6862901.75392902 L 650856.9784817705,6862901.697399588 L 650861.0768279142,6862899.638796278 L 650861.2084048899,6862899.582080237 L 650863.2100835086,6862898.575422565 L 650868.0683639707,6862896.154538896 L 650940.539665677,6862859.856314642 L 650959.5418404667,6862850.36575727 L 650963.391961251,6862848.442768887 L 650972.1221777857,6862844.065443866 L 650975.957634687,6862842.14258811 L 650977.1995971841,6862841.520479138 L 650977.0505225802,6862841.243741445 L 650980.6376843724,6862839.45642978 L 650988.0598431005,6862835.690676846 L 650988.0993440468,6862835.156584054 L 650988.2000720777,6862834.054854747 L 650988.1683737318,6862832.90976601 L 650988.0505235109,6862831.987805603 L 650987.7766390995,6862830.833646027 L 650987.7685503525,6862830.744754705 L 650987.4005192802,6862829.735951332 L 650986.8928195155,6862828.6949698245 L 650915.7592440435,6862686.995086259 z\" /></g></svg>",
      "text/plain": [
       "<shapely.geometry.polygon.Polygon at 0x1c813334250>"
      ]
     },
     "execution_count": 10,
     "metadata": {},
     "output_type": "execute_result"
    }
   ],
   "source": [
    "parcelles['geometry'][4]"
   ]
  },
  {
   "cell_type": "markdown",
   "metadata": {},
   "source": [
    "Finding the area of the polygon using .area method:"
   ]
  },
  {
   "cell_type": "code",
   "execution_count": 11,
   "metadata": {},
   "outputs": [
    {
     "data": {
      "text/plain": [
       "45720.195454293425"
      ]
     },
     "execution_count": 11,
     "metadata": {},
     "output_type": "execute_result"
    }
   ],
   "source": [
    "parcelles['geometry'][0].area"
   ]
  },
  {
   "cell_type": "markdown",
   "metadata": {},
   "source": [
    "#### Reading the text file using pandas into a DataFrame\n",
    "Accordingly, going through the same process to learn more about the data"
   ]
  },
  {
   "cell_type": "code",
   "execution_count": 12,
   "metadata": {},
   "outputs": [],
   "source": [
    "data = pd.read_csv(r'valeursfoncieres-2020.txt', sep='|',low_memory=False)"
   ]
  },
  {
   "cell_type": "code",
   "execution_count": 13,
   "metadata": {},
   "outputs": [
    {
     "data": {
      "text/plain": [
       "(3484957, 43)"
      ]
     },
     "execution_count": 13,
     "metadata": {},
     "output_type": "execute_result"
    }
   ],
   "source": [
    "data.shape"
   ]
  },
  {
   "cell_type": "code",
   "execution_count": 14,
   "metadata": {},
   "outputs": [
    {
     "data": {
      "text/plain": [
       "149853151"
      ]
     },
     "execution_count": 14,
     "metadata": {},
     "output_type": "execute_result"
    }
   ],
   "source": [
    "data.size"
   ]
  },
  {
   "cell_type": "code",
   "execution_count": 15,
   "metadata": {},
   "outputs": [
    {
     "data": {
      "text/plain": [
       "22"
      ]
     },
     "execution_count": 15,
     "metadata": {},
     "output_type": "execute_result"
    }
   ],
   "source": [
    "sum(data.dtypes == object)"
   ]
  },
  {
   "cell_type": "markdown",
   "metadata": {},
   "source": [
    "22 columns contain strings"
   ]
  },
  {
   "cell_type": "code",
   "execution_count": 16,
   "metadata": {},
   "outputs": [
    {
     "data": {
      "text/html": [
       "<div>\n",
       "<style scoped>\n",
       "    .dataframe tbody tr th:only-of-type {\n",
       "        vertical-align: middle;\n",
       "    }\n",
       "\n",
       "    .dataframe tbody tr th {\n",
       "        vertical-align: top;\n",
       "    }\n",
       "\n",
       "    .dataframe thead th {\n",
       "        text-align: right;\n",
       "    }\n",
       "</style>\n",
       "<table border=\"1\" class=\"dataframe\">\n",
       "  <thead>\n",
       "    <tr style=\"text-align: right;\">\n",
       "      <th></th>\n",
       "      <th>Code service CH</th>\n",
       "      <th>Reference document</th>\n",
       "      <th>1 Articles CGI</th>\n",
       "      <th>2 Articles CGI</th>\n",
       "      <th>3 Articles CGI</th>\n",
       "      <th>4 Articles CGI</th>\n",
       "      <th>5 Articles CGI</th>\n",
       "      <th>No disposition</th>\n",
       "      <th>Date mutation</th>\n",
       "      <th>Nature mutation</th>\n",
       "      <th>...</th>\n",
       "      <th>Surface Carrez du 5eme lot</th>\n",
       "      <th>Nombre de lots</th>\n",
       "      <th>Code type local</th>\n",
       "      <th>Type local</th>\n",
       "      <th>Identifiant local</th>\n",
       "      <th>Surface reelle bati</th>\n",
       "      <th>Nombre pieces principales</th>\n",
       "      <th>Nature culture</th>\n",
       "      <th>Nature culture speciale</th>\n",
       "      <th>Surface terrain</th>\n",
       "    </tr>\n",
       "  </thead>\n",
       "  <tbody>\n",
       "    <tr>\n",
       "      <th>0</th>\n",
       "      <td>NaN</td>\n",
       "      <td>NaN</td>\n",
       "      <td>NaN</td>\n",
       "      <td>NaN</td>\n",
       "      <td>NaN</td>\n",
       "      <td>NaN</td>\n",
       "      <td>NaN</td>\n",
       "      <td>1</td>\n",
       "      <td>07/01/2020</td>\n",
       "      <td>Vente</td>\n",
       "      <td>...</td>\n",
       "      <td>NaN</td>\n",
       "      <td>0</td>\n",
       "      <td>NaN</td>\n",
       "      <td>NaN</td>\n",
       "      <td>NaN</td>\n",
       "      <td>NaN</td>\n",
       "      <td>NaN</td>\n",
       "      <td>T</td>\n",
       "      <td>NaN</td>\n",
       "      <td>1061.0</td>\n",
       "    </tr>\n",
       "    <tr>\n",
       "      <th>1</th>\n",
       "      <td>NaN</td>\n",
       "      <td>NaN</td>\n",
       "      <td>NaN</td>\n",
       "      <td>NaN</td>\n",
       "      <td>NaN</td>\n",
       "      <td>NaN</td>\n",
       "      <td>NaN</td>\n",
       "      <td>1</td>\n",
       "      <td>02/01/2020</td>\n",
       "      <td>Vente</td>\n",
       "      <td>...</td>\n",
       "      <td>NaN</td>\n",
       "      <td>0</td>\n",
       "      <td>NaN</td>\n",
       "      <td>NaN</td>\n",
       "      <td>NaN</td>\n",
       "      <td>NaN</td>\n",
       "      <td>NaN</td>\n",
       "      <td>BT</td>\n",
       "      <td>NaN</td>\n",
       "      <td>85.0</td>\n",
       "    </tr>\n",
       "    <tr>\n",
       "      <th>2</th>\n",
       "      <td>NaN</td>\n",
       "      <td>NaN</td>\n",
       "      <td>NaN</td>\n",
       "      <td>NaN</td>\n",
       "      <td>NaN</td>\n",
       "      <td>NaN</td>\n",
       "      <td>NaN</td>\n",
       "      <td>1</td>\n",
       "      <td>02/01/2020</td>\n",
       "      <td>Vente</td>\n",
       "      <td>...</td>\n",
       "      <td>NaN</td>\n",
       "      <td>0</td>\n",
       "      <td>NaN</td>\n",
       "      <td>NaN</td>\n",
       "      <td>NaN</td>\n",
       "      <td>NaN</td>\n",
       "      <td>NaN</td>\n",
       "      <td>T</td>\n",
       "      <td>NaN</td>\n",
       "      <td>1115.0</td>\n",
       "    </tr>\n",
       "    <tr>\n",
       "      <th>3</th>\n",
       "      <td>NaN</td>\n",
       "      <td>NaN</td>\n",
       "      <td>NaN</td>\n",
       "      <td>NaN</td>\n",
       "      <td>NaN</td>\n",
       "      <td>NaN</td>\n",
       "      <td>NaN</td>\n",
       "      <td>1</td>\n",
       "      <td>02/01/2020</td>\n",
       "      <td>Vente</td>\n",
       "      <td>...</td>\n",
       "      <td>NaN</td>\n",
       "      <td>0</td>\n",
       "      <td>NaN</td>\n",
       "      <td>NaN</td>\n",
       "      <td>NaN</td>\n",
       "      <td>NaN</td>\n",
       "      <td>NaN</td>\n",
       "      <td>T</td>\n",
       "      <td>NaN</td>\n",
       "      <td>1940.0</td>\n",
       "    </tr>\n",
       "    <tr>\n",
       "      <th>4</th>\n",
       "      <td>NaN</td>\n",
       "      <td>NaN</td>\n",
       "      <td>NaN</td>\n",
       "      <td>NaN</td>\n",
       "      <td>NaN</td>\n",
       "      <td>NaN</td>\n",
       "      <td>NaN</td>\n",
       "      <td>1</td>\n",
       "      <td>02/01/2020</td>\n",
       "      <td>Vente</td>\n",
       "      <td>...</td>\n",
       "      <td>NaN</td>\n",
       "      <td>0</td>\n",
       "      <td>NaN</td>\n",
       "      <td>NaN</td>\n",
       "      <td>NaN</td>\n",
       "      <td>NaN</td>\n",
       "      <td>NaN</td>\n",
       "      <td>T</td>\n",
       "      <td>NaN</td>\n",
       "      <td>1148.0</td>\n",
       "    </tr>\n",
       "  </tbody>\n",
       "</table>\n",
       "<p>5 rows × 43 columns</p>\n",
       "</div>"
      ],
      "text/plain": [
       "   Code service CH  Reference document  1 Articles CGI  2 Articles CGI  \\\n",
       "0              NaN                 NaN             NaN             NaN   \n",
       "1              NaN                 NaN             NaN             NaN   \n",
       "2              NaN                 NaN             NaN             NaN   \n",
       "3              NaN                 NaN             NaN             NaN   \n",
       "4              NaN                 NaN             NaN             NaN   \n",
       "\n",
       "   3 Articles CGI  4 Articles CGI  5 Articles CGI  No disposition  \\\n",
       "0             NaN             NaN             NaN               1   \n",
       "1             NaN             NaN             NaN               1   \n",
       "2             NaN             NaN             NaN               1   \n",
       "3             NaN             NaN             NaN               1   \n",
       "4             NaN             NaN             NaN               1   \n",
       "\n",
       "  Date mutation Nature mutation  ... Surface Carrez du 5eme lot  \\\n",
       "0    07/01/2020           Vente  ...                        NaN   \n",
       "1    02/01/2020           Vente  ...                        NaN   \n",
       "2    02/01/2020           Vente  ...                        NaN   \n",
       "3    02/01/2020           Vente  ...                        NaN   \n",
       "4    02/01/2020           Vente  ...                        NaN   \n",
       "\n",
       "   Nombre de lots Code type local Type local Identifiant local  \\\n",
       "0               0             NaN        NaN               NaN   \n",
       "1               0             NaN        NaN               NaN   \n",
       "2               0             NaN        NaN               NaN   \n",
       "3               0             NaN        NaN               NaN   \n",
       "4               0             NaN        NaN               NaN   \n",
       "\n",
       "  Surface reelle bati  Nombre pieces principales Nature culture  \\\n",
       "0                 NaN                        NaN              T   \n",
       "1                 NaN                        NaN             BT   \n",
       "2                 NaN                        NaN              T   \n",
       "3                 NaN                        NaN              T   \n",
       "4                 NaN                        NaN              T   \n",
       "\n",
       "  Nature culture speciale  Surface terrain  \n",
       "0                     NaN           1061.0  \n",
       "1                     NaN             85.0  \n",
       "2                     NaN           1115.0  \n",
       "3                     NaN           1940.0  \n",
       "4                     NaN           1148.0  \n",
       "\n",
       "[5 rows x 43 columns]"
      ]
     },
     "execution_count": 16,
     "metadata": {},
     "output_type": "execute_result"
    }
   ],
   "source": [
    "data.head()"
   ]
  },
  {
   "cell_type": "markdown",
   "metadata": {},
   "source": [
    "Number of NaNs in the whole DataFrame:"
   ]
  },
  {
   "cell_type": "code",
   "execution_count": 17,
   "metadata": {},
   "outputs": [
    {
     "data": {
      "text/plain": [
       "85926409"
      ]
     },
     "execution_count": 17,
     "metadata": {},
     "output_type": "execute_result"
    }
   ],
   "source": [
    "data.isna().sum().sum()"
   ]
  },
  {
   "cell_type": "markdown",
   "metadata": {},
   "source": [
    "According to the file description, the first 7 columns do not include any meaningful information and are NaNs. As you can see below, as an example, the column \"5 Articles CGI\" icludes the same number of NaNs as rows."
   ]
  },
  {
   "cell_type": "code",
   "execution_count": 18,
   "metadata": {},
   "outputs": [
    {
     "data": {
      "text/plain": [
       "3484957"
      ]
     },
     "execution_count": 18,
     "metadata": {},
     "output_type": "execute_result"
    }
   ],
   "source": [
    "data['5 Articles CGI'].isna().sum()"
   ]
  },
  {
   "cell_type": "markdown",
   "metadata": {},
   "source": [
    "Again, according to the file description, the most important information for this project lies in these columns:  \n",
    "1. Commune: Name of the city\n",
    "2. Code commune: digit code of the region inside the city\n",
    "3. Code departement: Digit code of the city\n",
    "4. Section: Another identifier of the land\n",
    "5. No plan: Another identifier of the land\n",
    "6. Date mutation: the date the deed was signed\n",
    "7. Surface terrain: whole area of the land\n",
    "8. Valeur fonciere: Land value  \n",
    "These columns are read and put into a new DF"
   ]
  },
  {
   "cell_type": "code",
   "execution_count": 19,
   "metadata": {},
   "outputs": [],
   "source": [
    "dataset = data[['Commune','Code commune', 'Code departement','Section', 'No plan', 'Date mutation', 'Surface terrain','Valeur fonciere']]"
   ]
  },
  {
   "cell_type": "code",
   "execution_count": 20,
   "metadata": {},
   "outputs": [
    {
     "data": {
      "text/plain": [
       "27879656"
      ]
     },
     "execution_count": 20,
     "metadata": {},
     "output_type": "execute_result"
    }
   ],
   "source": [
    "dataset.size"
   ]
  },
  {
   "cell_type": "code",
   "execution_count": 21,
   "metadata": {},
   "outputs": [
    {
     "data": {
      "text/plain": [
       "1145601"
      ]
     },
     "execution_count": 21,
     "metadata": {},
     "output_type": "execute_result"
    }
   ],
   "source": [
    "dataset.isna().sum().sum()"
   ]
  },
  {
   "cell_type": "markdown",
   "metadata": {},
   "source": [
    "Checking to see if all the dates are valid:"
   ]
  },
  {
   "cell_type": "code",
   "execution_count": 22,
   "metadata": {},
   "outputs": [
    {
     "data": {
      "text/plain": [
       "0"
      ]
     },
     "execution_count": 22,
     "metadata": {},
     "output_type": "execute_result"
    }
   ],
   "source": [
    "dataset['Date mutation'].isna().sum()"
   ]
  },
  {
   "cell_type": "markdown",
   "metadata": {},
   "source": [
    "Changing date string into datetime object"
   ]
  },
  {
   "cell_type": "code",
   "execution_count": 23,
   "metadata": {},
   "outputs": [],
   "source": [
    "dataset['Date mutation'] = pd.to_datetime(dataset['Date mutation'], format = '%d/%m/%Y')"
   ]
  },
  {
   "cell_type": "markdown",
   "metadata": {},
   "source": [
    "Checking for the name of the cities to find a pattern for Paris:"
   ]
  },
  {
   "cell_type": "code",
   "execution_count": 24,
   "metadata": {},
   "outputs": [
    {
     "data": {
      "text/plain": [
       "array(['CEYZERIAT', 'LAIZ', 'PERONNAS', ..., 'PARIS 15', 'PARIS 13',\n",
       "       'PARIS 14'], dtype=object)"
      ]
     },
     "execution_count": 24,
     "metadata": {},
     "output_type": "execute_result"
    }
   ],
   "source": [
    "dataset['Commune'].unique()"
   ]
  },
  {
   "cell_type": "markdown",
   "metadata": {},
   "source": [
    "Checking for the code of the city, \"code departement\" of Paris:"
   ]
  },
  {
   "cell_type": "code",
   "execution_count": 25,
   "metadata": {},
   "outputs": [
    {
     "data": {
      "text/plain": [
       "array(['75'], dtype=object)"
      ]
     },
     "execution_count": 25,
     "metadata": {},
     "output_type": "execute_result"
    }
   ],
   "source": [
    "dataset[dataset['Commune'] == 'PARIS 14']['Code departement'].unique()"
   ]
  },
  {
   "cell_type": "markdown",
   "metadata": {},
   "source": [
    "Since we are only interested in Paris, and Paris's code is 75, we look only for that and create a new DF:"
   ]
  },
  {
   "cell_type": "code",
   "execution_count": 26,
   "metadata": {},
   "outputs": [
    {
     "data": {
      "text/plain": [
       "array(['PARIS 08', 'PARIS 01', 'PARIS 03', 'PARIS 20', 'PARIS 10',\n",
       "       'PARIS 17', 'PARIS 19', 'PARIS 02', 'PARIS 18', 'PARIS 09',\n",
       "       'PARIS 04', 'PARIS 06', 'PARIS 07', 'PARIS 05', 'PARIS 16',\n",
       "       'PARIS 11', 'PARIS 12', 'PARIS 15', 'PARIS 13', 'PARIS 14'],\n",
       "      dtype=object)"
      ]
     },
     "execution_count": 26,
     "metadata": {},
     "output_type": "execute_result"
    }
   ],
   "source": [
    "paris_data = dataset[dataset['Code departement'] == '75']\n",
    "paris_data['Commune'].unique()"
   ]
  },
  {
   "cell_type": "markdown",
   "metadata": {},
   "source": [
    "There are 20 Paris districts. "
   ]
  },
  {
   "cell_type": "code",
   "execution_count": 27,
   "metadata": {},
   "outputs": [
    {
     "data": {
      "text/plain": [
       "(54549, 8)"
      ]
     },
     "execution_count": 27,
     "metadata": {},
     "output_type": "execute_result"
    }
   ],
   "source": [
    "paris_data.shape"
   ]
  },
  {
   "cell_type": "code",
   "execution_count": 28,
   "metadata": {},
   "outputs": [
    {
     "data": {
      "text/plain": [
       "436392"
      ]
     },
     "execution_count": 28,
     "metadata": {},
     "output_type": "execute_result"
    }
   ],
   "source": [
    "paris_data.size"
   ]
  },
  {
   "cell_type": "code",
   "execution_count": 29,
   "metadata": {},
   "outputs": [
    {
     "data": {
      "text/plain": [
       "49731"
      ]
     },
     "execution_count": 29,
     "metadata": {},
     "output_type": "execute_result"
    }
   ],
   "source": [
    "paris_data.isna().sum().sum()"
   ]
  },
  {
   "cell_type": "code",
   "execution_count": 30,
   "metadata": {},
   "outputs": [
    {
     "data": {
      "text/plain": [
       "Commune                     object\n",
       "Code commune                 int64\n",
       "Code departement            object\n",
       "Section                     object\n",
       "No plan                      int64\n",
       "Date mutation       datetime64[ns]\n",
       "Surface terrain            float64\n",
       "Valeur fonciere             object\n",
       "dtype: object"
      ]
     },
     "execution_count": 30,
     "metadata": {},
     "output_type": "execute_result"
    }
   ],
   "source": [
    "paris_data.dtypes"
   ]
  },
  {
   "cell_type": "markdown",
   "metadata": {},
   "source": [
    "By looking at the id inside the parcelles and the combination of cadastral data inside the paris_data DF, I concluded that the id is the combination of:  \n",
    "Code departement + code commune + '000' + Section + No plan  \n",
    "  \n",
    "  Therefore, in order to create the id we need to change No plan and code commune to object types instead of int64"
   ]
  },
  {
   "cell_type": "code",
   "execution_count": 31,
   "metadata": {},
   "outputs": [],
   "source": [
    "paris_data['No plan'] = paris_data['No plan'].astype(str)"
   ]
  },
  {
   "cell_type": "code",
   "execution_count": 32,
   "metadata": {},
   "outputs": [],
   "source": [
    "paris_data['Code commune'] = paris_data['Code commune'].astype(str)"
   ]
  },
  {
   "cell_type": "markdown",
   "metadata": {},
   "source": [
    "Looking for rows where land value (Valeur Fonciere) is NaN and remove those rows."
   ]
  },
  {
   "cell_type": "code",
   "execution_count": 33,
   "metadata": {},
   "outputs": [
    {
     "name": "stdout",
     "output_type": "stream",
     "text": [
      "192\n"
     ]
    }
   ],
   "source": [
    "print(paris_data['Valeur fonciere'].isna().sum())\n",
    "paris_data = paris_data[paris_data['Valeur fonciere'].notna()]"
   ]
  },
  {
   "cell_type": "markdown",
   "metadata": {},
   "source": [
    "Then, changing the Valeur fonciere from object type to float64."
   ]
  },
  {
   "cell_type": "code",
   "execution_count": 34,
   "metadata": {},
   "outputs": [],
   "source": [
    "paris_data['Valeur fonciere'] = paris_data['Valeur fonciere'].apply(lambda x: x[:-3])"
   ]
  },
  {
   "cell_type": "code",
   "execution_count": 35,
   "metadata": {},
   "outputs": [],
   "source": [
    "paris_data['Valeur fonciere'] = paris_data['Valeur fonciere'].astype('float64')"
   ]
  },
  {
   "cell_type": "code",
   "execution_count": 36,
   "metadata": {},
   "outputs": [
    {
     "data": {
      "text/plain": [
       "Commune                     object\n",
       "Code commune                object\n",
       "Code departement            object\n",
       "Section                     object\n",
       "No plan                     object\n",
       "Date mutation       datetime64[ns]\n",
       "Surface terrain            float64\n",
       "Valeur fonciere            float64\n",
       "dtype: object"
      ]
     },
     "execution_count": 36,
     "metadata": {},
     "output_type": "execute_result"
    }
   ],
   "source": [
    "paris_data.dtypes"
   ]
  },
  {
   "cell_type": "markdown",
   "metadata": {},
   "source": [
    "Based on the id from parcelles DF, I concluded that the No plan should be a 4 character string. Therefore, adding zeros to the left of the No plan to create the id in the correct way.  \n",
    "Example:  \n",
    "\tid : 75101000AB0002  \n",
    "    code departement: 75, code commune: 101, prefix: 000 (always), section: AB, No Plan: 0002, instead of just 2.\n"
   ]
  },
  {
   "cell_type": "code",
   "execution_count": 37,
   "metadata": {},
   "outputs": [],
   "source": [
    "paris_data['No plan'] = paris_data['No plan'].apply(lambda x: '0'*(4-len(x)) + x)"
   ]
  },
  {
   "cell_type": "markdown",
   "metadata": {},
   "source": [
    "Generating id"
   ]
  },
  {
   "cell_type": "code",
   "execution_count": 38,
   "metadata": {},
   "outputs": [
    {
     "data": {
      "text/html": [
       "<div>\n",
       "<style scoped>\n",
       "    .dataframe tbody tr th:only-of-type {\n",
       "        vertical-align: middle;\n",
       "    }\n",
       "\n",
       "    .dataframe tbody tr th {\n",
       "        vertical-align: top;\n",
       "    }\n",
       "\n",
       "    .dataframe thead th {\n",
       "        text-align: right;\n",
       "    }\n",
       "</style>\n",
       "<table border=\"1\" class=\"dataframe\">\n",
       "  <thead>\n",
       "    <tr style=\"text-align: right;\">\n",
       "      <th></th>\n",
       "      <th>Commune</th>\n",
       "      <th>Code commune</th>\n",
       "      <th>Code departement</th>\n",
       "      <th>Section</th>\n",
       "      <th>No plan</th>\n",
       "      <th>Date mutation</th>\n",
       "      <th>Surface terrain</th>\n",
       "      <th>Valeur fonciere</th>\n",
       "      <th>id</th>\n",
       "    </tr>\n",
       "  </thead>\n",
       "  <tbody>\n",
       "    <tr>\n",
       "      <th>3430408</th>\n",
       "      <td>PARIS 08</td>\n",
       "      <td>108</td>\n",
       "      <td>75</td>\n",
       "      <td>BS</td>\n",
       "      <td>0136</td>\n",
       "      <td>2020-01-02</td>\n",
       "      <td>NaN</td>\n",
       "      <td>268800.0</td>\n",
       "      <td>75108000BS0136</td>\n",
       "    </tr>\n",
       "    <tr>\n",
       "      <th>3430409</th>\n",
       "      <td>PARIS 01</td>\n",
       "      <td>101</td>\n",
       "      <td>75</td>\n",
       "      <td>BC</td>\n",
       "      <td>0041</td>\n",
       "      <td>2020-01-06</td>\n",
       "      <td>NaN</td>\n",
       "      <td>878378.0</td>\n",
       "      <td>75101000BC0041</td>\n",
       "    </tr>\n",
       "    <tr>\n",
       "      <th>3430410</th>\n",
       "      <td>PARIS 01</td>\n",
       "      <td>101</td>\n",
       "      <td>75</td>\n",
       "      <td>BC</td>\n",
       "      <td>0041</td>\n",
       "      <td>2020-01-06</td>\n",
       "      <td>NaN</td>\n",
       "      <td>878378.0</td>\n",
       "      <td>75101000BC0041</td>\n",
       "    </tr>\n",
       "    <tr>\n",
       "      <th>3430411</th>\n",
       "      <td>PARIS 03</td>\n",
       "      <td>103</td>\n",
       "      <td>75</td>\n",
       "      <td>AV</td>\n",
       "      <td>0006</td>\n",
       "      <td>2020-01-10</td>\n",
       "      <td>NaN</td>\n",
       "      <td>680000.0</td>\n",
       "      <td>75103000AV0006</td>\n",
       "    </tr>\n",
       "    <tr>\n",
       "      <th>3430412</th>\n",
       "      <td>PARIS 03</td>\n",
       "      <td>103</td>\n",
       "      <td>75</td>\n",
       "      <td>AK</td>\n",
       "      <td>0080</td>\n",
       "      <td>2020-01-03</td>\n",
       "      <td>NaN</td>\n",
       "      <td>852000.0</td>\n",
       "      <td>75103000AK0080</td>\n",
       "    </tr>\n",
       "    <tr>\n",
       "      <th>...</th>\n",
       "      <td>...</td>\n",
       "      <td>...</td>\n",
       "      <td>...</td>\n",
       "      <td>...</td>\n",
       "      <td>...</td>\n",
       "      <td>...</td>\n",
       "      <td>...</td>\n",
       "      <td>...</td>\n",
       "      <td>...</td>\n",
       "    </tr>\n",
       "    <tr>\n",
       "      <th>3484952</th>\n",
       "      <td>PARIS 04</td>\n",
       "      <td>104</td>\n",
       "      <td>75</td>\n",
       "      <td>AW</td>\n",
       "      <td>0019</td>\n",
       "      <td>2020-12-16</td>\n",
       "      <td>447.0</td>\n",
       "      <td>1937500.0</td>\n",
       "      <td>75104000AW0019</td>\n",
       "    </tr>\n",
       "    <tr>\n",
       "      <th>3484953</th>\n",
       "      <td>PARIS 04</td>\n",
       "      <td>104</td>\n",
       "      <td>75</td>\n",
       "      <td>AW</td>\n",
       "      <td>0019</td>\n",
       "      <td>2020-12-16</td>\n",
       "      <td>447.0</td>\n",
       "      <td>1937500.0</td>\n",
       "      <td>75104000AW0019</td>\n",
       "    </tr>\n",
       "    <tr>\n",
       "      <th>3484954</th>\n",
       "      <td>PARIS 04</td>\n",
       "      <td>104</td>\n",
       "      <td>75</td>\n",
       "      <td>AW</td>\n",
       "      <td>0019</td>\n",
       "      <td>2020-12-16</td>\n",
       "      <td>447.0</td>\n",
       "      <td>1937500.0</td>\n",
       "      <td>75104000AW0019</td>\n",
       "    </tr>\n",
       "    <tr>\n",
       "      <th>3484955</th>\n",
       "      <td>PARIS 04</td>\n",
       "      <td>104</td>\n",
       "      <td>75</td>\n",
       "      <td>AW</td>\n",
       "      <td>0019</td>\n",
       "      <td>2020-12-16</td>\n",
       "      <td>447.0</td>\n",
       "      <td>1937500.0</td>\n",
       "      <td>75104000AW0019</td>\n",
       "    </tr>\n",
       "    <tr>\n",
       "      <th>3484956</th>\n",
       "      <td>PARIS 02</td>\n",
       "      <td>102</td>\n",
       "      <td>75</td>\n",
       "      <td>AM</td>\n",
       "      <td>0143</td>\n",
       "      <td>2020-10-08</td>\n",
       "      <td>NaN</td>\n",
       "      <td>255000.0</td>\n",
       "      <td>75102000AM0143</td>\n",
       "    </tr>\n",
       "  </tbody>\n",
       "</table>\n",
       "<p>54357 rows × 9 columns</p>\n",
       "</div>"
      ],
      "text/plain": [
       "          Commune Code commune Code departement Section No plan Date mutation  \\\n",
       "3430408  PARIS 08          108               75      BS    0136    2020-01-02   \n",
       "3430409  PARIS 01          101               75      BC    0041    2020-01-06   \n",
       "3430410  PARIS 01          101               75      BC    0041    2020-01-06   \n",
       "3430411  PARIS 03          103               75      AV    0006    2020-01-10   \n",
       "3430412  PARIS 03          103               75      AK    0080    2020-01-03   \n",
       "...           ...          ...              ...     ...     ...           ...   \n",
       "3484952  PARIS 04          104               75      AW    0019    2020-12-16   \n",
       "3484953  PARIS 04          104               75      AW    0019    2020-12-16   \n",
       "3484954  PARIS 04          104               75      AW    0019    2020-12-16   \n",
       "3484955  PARIS 04          104               75      AW    0019    2020-12-16   \n",
       "3484956  PARIS 02          102               75      AM    0143    2020-10-08   \n",
       "\n",
       "         Surface terrain  Valeur fonciere              id  \n",
       "3430408              NaN         268800.0  75108000BS0136  \n",
       "3430409              NaN         878378.0  75101000BC0041  \n",
       "3430410              NaN         878378.0  75101000BC0041  \n",
       "3430411              NaN         680000.0  75103000AV0006  \n",
       "3430412              NaN         852000.0  75103000AK0080  \n",
       "...                  ...              ...             ...  \n",
       "3484952            447.0        1937500.0  75104000AW0019  \n",
       "3484953            447.0        1937500.0  75104000AW0019  \n",
       "3484954            447.0        1937500.0  75104000AW0019  \n",
       "3484955            447.0        1937500.0  75104000AW0019  \n",
       "3484956              NaN         255000.0  75102000AM0143  \n",
       "\n",
       "[54357 rows x 9 columns]"
      ]
     },
     "execution_count": 38,
     "metadata": {},
     "output_type": "execute_result"
    }
   ],
   "source": [
    "paris_data['id'] = paris_data.apply(lambda row: row['Code departement'] + row['Code commune'] + '000' + row['Section'] + row['No plan'] , axis=1)\n",
    "paris_data"
   ]
  },
  {
   "cell_type": "markdown",
   "metadata": {},
   "source": [
    "number of unique ids in paris_data DF:"
   ]
  },
  {
   "cell_type": "code",
   "execution_count": 39,
   "metadata": {},
   "outputs": [
    {
     "data": {
      "text/plain": [
       "20348"
      ]
     },
     "execution_count": 39,
     "metadata": {},
     "output_type": "execute_result"
    }
   ],
   "source": [
    "paris_data['id'].nunique()"
   ]
  },
  {
   "cell_type": "code",
   "execution_count": 40,
   "metadata": {},
   "outputs": [
    {
     "data": {
      "text/plain": [
       "(54357, 9)"
      ]
     },
     "execution_count": 40,
     "metadata": {},
     "output_type": "execute_result"
    }
   ],
   "source": [
    "paris_data.shape"
   ]
  },
  {
   "cell_type": "markdown",
   "metadata": {},
   "source": [
    "Checking for duplicate rows and removing them"
   ]
  },
  {
   "cell_type": "code",
   "execution_count": 41,
   "metadata": {},
   "outputs": [],
   "source": [
    "paris_data = paris_data.drop_duplicates()"
   ]
  },
  {
   "cell_type": "markdown",
   "metadata": {},
   "source": [
    "Number of unique ids should not change:"
   ]
  },
  {
   "cell_type": "code",
   "execution_count": 42,
   "metadata": {},
   "outputs": [
    {
     "data": {
      "text/plain": [
       "20348"
      ]
     },
     "execution_count": 42,
     "metadata": {},
     "output_type": "execute_result"
    }
   ],
   "source": [
    "paris_data['id'].nunique()"
   ]
  },
  {
   "cell_type": "markdown",
   "metadata": {},
   "source": [
    "Checking the actual area from the dataset."
   ]
  },
  {
   "cell_type": "code",
   "execution_count": 43,
   "metadata": {},
   "outputs": [
    {
     "data": {
      "text/plain": [
       "38033"
      ]
     },
     "execution_count": 43,
     "metadata": {},
     "output_type": "execute_result"
    }
   ],
   "source": [
    "paris_data['Surface terrain'].isna().sum()"
   ]
  },
  {
   "cell_type": "markdown",
   "metadata": {},
   "source": [
    "Most of the area values are NaNs. Therefore I will be using the polygon .area method to calculate the area."
   ]
  },
  {
   "cell_type": "code",
   "execution_count": 44,
   "metadata": {},
   "outputs": [
    {
     "data": {
      "text/plain": [
       "(38654, 9)"
      ]
     },
     "execution_count": 44,
     "metadata": {},
     "output_type": "execute_result"
    }
   ],
   "source": [
    "paris_data.shape"
   ]
  },
  {
   "cell_type": "markdown",
   "metadata": {},
   "source": [
    "##### Strange cases"
   ]
  },
  {
   "cell_type": "markdown",
   "metadata": {},
   "source": [
    "Looking to see the difference between number of rows and number of unique ids."
   ]
  },
  {
   "cell_type": "code",
   "execution_count": 45,
   "metadata": {},
   "outputs": [
    {
     "data": {
      "text/plain": [
       "18306"
      ]
     },
     "execution_count": 45,
     "metadata": {},
     "output_type": "execute_result"
    }
   ],
   "source": [
    "len(paris_data) - paris_data['id'].nunique()"
   ]
  },
  {
   "cell_type": "markdown",
   "metadata": {},
   "source": [
    "This is an strange case. Let's investigate it more. As an example I chose id: 75101000BC0041"
   ]
  },
  {
   "cell_type": "code",
   "execution_count": 46,
   "metadata": {},
   "outputs": [
    {
     "data": {
      "text/html": [
       "<div>\n",
       "<style scoped>\n",
       "    .dataframe tbody tr th:only-of-type {\n",
       "        vertical-align: middle;\n",
       "    }\n",
       "\n",
       "    .dataframe tbody tr th {\n",
       "        vertical-align: top;\n",
       "    }\n",
       "\n",
       "    .dataframe thead th {\n",
       "        text-align: right;\n",
       "    }\n",
       "</style>\n",
       "<table border=\"1\" class=\"dataframe\">\n",
       "  <thead>\n",
       "    <tr style=\"text-align: right;\">\n",
       "      <th></th>\n",
       "      <th>Commune</th>\n",
       "      <th>Code commune</th>\n",
       "      <th>Code departement</th>\n",
       "      <th>Section</th>\n",
       "      <th>No plan</th>\n",
       "      <th>Date mutation</th>\n",
       "      <th>Surface terrain</th>\n",
       "      <th>Valeur fonciere</th>\n",
       "      <th>id</th>\n",
       "    </tr>\n",
       "  </thead>\n",
       "  <tbody>\n",
       "    <tr>\n",
       "      <th>3430409</th>\n",
       "      <td>PARIS 01</td>\n",
       "      <td>101</td>\n",
       "      <td>75</td>\n",
       "      <td>BC</td>\n",
       "      <td>0041</td>\n",
       "      <td>2020-01-06</td>\n",
       "      <td>NaN</td>\n",
       "      <td>878378.0</td>\n",
       "      <td>75101000BC0041</td>\n",
       "    </tr>\n",
       "    <tr>\n",
       "      <th>3431922</th>\n",
       "      <td>PARIS 01</td>\n",
       "      <td>101</td>\n",
       "      <td>75</td>\n",
       "      <td>BC</td>\n",
       "      <td>0041</td>\n",
       "      <td>2020-05-18</td>\n",
       "      <td>NaN</td>\n",
       "      <td>2200.0</td>\n",
       "      <td>75101000BC0041</td>\n",
       "    </tr>\n",
       "  </tbody>\n",
       "</table>\n",
       "</div>"
      ],
      "text/plain": [
       "          Commune Code commune Code departement Section No plan Date mutation  \\\n",
       "3430409  PARIS 01          101               75      BC    0041    2020-01-06   \n",
       "3431922  PARIS 01          101               75      BC    0041    2020-05-18   \n",
       "\n",
       "         Surface terrain  Valeur fonciere              id  \n",
       "3430409              NaN         878378.0  75101000BC0041  \n",
       "3431922              NaN           2200.0  75101000BC0041  "
      ]
     },
     "execution_count": 46,
     "metadata": {},
     "output_type": "execute_result"
    }
   ],
   "source": [
    "paris_data[paris_data['id'] == '75101000BC0041']"
   ]
  },
  {
   "cell_type": "markdown",
   "metadata": {},
   "source": [
    "The two ids have the same information, except date and value. Let's go back to the unprocessed data:"
   ]
  },
  {
   "cell_type": "code",
   "execution_count": 47,
   "metadata": {},
   "outputs": [
    {
     "data": {
      "text/html": [
       "<div>\n",
       "<style scoped>\n",
       "    .dataframe tbody tr th:only-of-type {\n",
       "        vertical-align: middle;\n",
       "    }\n",
       "\n",
       "    .dataframe tbody tr th {\n",
       "        vertical-align: top;\n",
       "    }\n",
       "\n",
       "    .dataframe thead th {\n",
       "        text-align: right;\n",
       "    }\n",
       "</style>\n",
       "<table border=\"1\" class=\"dataframe\">\n",
       "  <thead>\n",
       "    <tr style=\"text-align: right;\">\n",
       "      <th></th>\n",
       "      <th>No voie</th>\n",
       "      <th>Code voie</th>\n",
       "      <th>Voie</th>\n",
       "      <th>Code postal</th>\n",
       "      <th>Code departement</th>\n",
       "    </tr>\n",
       "  </thead>\n",
       "  <tbody>\n",
       "    <tr>\n",
       "      <th>3430409</th>\n",
       "      <td>9.0</td>\n",
       "      <td>5888</td>\n",
       "      <td>DE LA MADELEINE</td>\n",
       "      <td>75001.0</td>\n",
       "      <td>75</td>\n",
       "    </tr>\n",
       "    <tr>\n",
       "      <th>3430410</th>\n",
       "      <td>9.0</td>\n",
       "      <td>5888</td>\n",
       "      <td>DE LA MADELEINE</td>\n",
       "      <td>75001.0</td>\n",
       "      <td>75</td>\n",
       "    </tr>\n",
       "  </tbody>\n",
       "</table>\n",
       "</div>"
      ],
      "text/plain": [
       "         No voie Code voie             Voie  Code postal Code departement\n",
       "3430409      9.0      5888  DE LA MADELEINE      75001.0               75\n",
       "3430410      9.0      5888  DE LA MADELEINE      75001.0               75"
      ]
     },
     "execution_count": 47,
     "metadata": {},
     "output_type": "execute_result"
    }
   ],
   "source": [
    "data[data['Valeur fonciere'] == '878378,00'][['No voie', 'Code voie', 'Voie', 'Code postal', 'Code departement']]"
   ]
  },
  {
   "cell_type": "code",
   "execution_count": 48,
   "metadata": {},
   "outputs": [
    {
     "data": {
      "text/html": [
       "<div>\n",
       "<style scoped>\n",
       "    .dataframe tbody tr th:only-of-type {\n",
       "        vertical-align: middle;\n",
       "    }\n",
       "\n",
       "    .dataframe tbody tr th {\n",
       "        vertical-align: top;\n",
       "    }\n",
       "\n",
       "    .dataframe thead th {\n",
       "        text-align: right;\n",
       "    }\n",
       "</style>\n",
       "<table border=\"1\" class=\"dataframe\">\n",
       "  <thead>\n",
       "    <tr style=\"text-align: right;\">\n",
       "      <th></th>\n",
       "      <th>No voie</th>\n",
       "      <th>Code voie</th>\n",
       "      <th>Voie</th>\n",
       "      <th>Code postal</th>\n",
       "      <th>Code departement</th>\n",
       "    </tr>\n",
       "  </thead>\n",
       "  <tbody>\n",
       "    <tr>\n",
       "      <th>3431922</th>\n",
       "      <td>9.0</td>\n",
       "      <td>5888</td>\n",
       "      <td>DE LA MADELEINE</td>\n",
       "      <td>75001.0</td>\n",
       "      <td>75</td>\n",
       "    </tr>\n",
       "  </tbody>\n",
       "</table>\n",
       "</div>"
      ],
      "text/plain": [
       "         No voie Code voie             Voie  Code postal Code departement\n",
       "3431922      9.0      5888  DE LA MADELEINE      75001.0               75"
      ]
     },
     "execution_count": 48,
     "metadata": {},
     "output_type": "execute_result"
    }
   ],
   "source": [
    "d = data[data['Valeur fonciere'] == '2200,00']\n",
    "d[d['Code commune']==101][['No voie', 'Code voie', 'Voie', 'Code postal', 'Code departement']]"
   ]
  },
  {
   "cell_type": "markdown",
   "metadata": {},
   "source": [
    "Street name, postal code and everything else are the same. Except value and mutation date. I could not find any information about this in the description pdf. However, since there is only one instance of each id in the parcelles DF, I took the id with the higher value. "
   ]
  },
  {
   "cell_type": "markdown",
   "metadata": {},
   "source": [
    "##### Preparing the data"
   ]
  },
  {
   "cell_type": "markdown",
   "metadata": {},
   "source": [
    "Transferring value information from paris_data to parcelles DF based on ids."
   ]
  },
  {
   "cell_type": "code",
   "execution_count": 49,
   "metadata": {},
   "outputs": [],
   "source": [
    "parcelles['value'] = ''"
   ]
  },
  {
   "cell_type": "code",
   "execution_count": 50,
   "metadata": {},
   "outputs": [],
   "source": [
    "for i in parcelles['id'].unique():\n",
    "    if i in paris_data['id'].unique():\n",
    "        m = max(paris_data[paris_data['id'] == i]['Valeur fonciere']) ### taking max values for strange edge cases.\n",
    "        parcelles.loc[parcelles['id'] == i,'value'] = m"
   ]
  },
  {
   "cell_type": "markdown",
   "metadata": {},
   "source": [
    "Removing rows where there are no land values for:"
   ]
  },
  {
   "cell_type": "code",
   "execution_count": 51,
   "metadata": {},
   "outputs": [],
   "source": [
    "parcelles = parcelles[parcelles['value'] != '']"
   ]
  },
  {
   "cell_type": "markdown",
   "metadata": {},
   "source": [
    "Removing other unnecessary columns. "
   ]
  },
  {
   "cell_type": "code",
   "execution_count": 52,
   "metadata": {},
   "outputs": [],
   "source": [
    "parcelles.drop(['commune','prefixe', 'section', 'numero', 'contenance', 'created', 'updated'], inplace=True, axis = 1)"
   ]
  },
  {
   "cell_type": "markdown",
   "metadata": {},
   "source": [
    "Reseting index in place and without adding index as a new column"
   ]
  },
  {
   "cell_type": "code",
   "execution_count": 53,
   "metadata": {},
   "outputs": [],
   "source": [
    "parcelles.reset_index(inplace=True, drop=True)"
   ]
  },
  {
   "cell_type": "markdown",
   "metadata": {},
   "source": [
    "##### Adding geographical information"
   ]
  },
  {
   "cell_type": "markdown",
   "metadata": {},
   "source": [
    "Adding the centroid"
   ]
  },
  {
   "cell_type": "code",
   "execution_count": 54,
   "metadata": {},
   "outputs": [],
   "source": [
    "parcelles['centroid'] = parcelles.apply(lambda x: x['geometry'].centroid.wkt[7:41], axis=1)"
   ]
  },
  {
   "cell_type": "markdown",
   "metadata": {},
   "source": [
    "Adding the area"
   ]
  },
  {
   "cell_type": "code",
   "execution_count": 55,
   "metadata": {},
   "outputs": [],
   "source": [
    "parcelles['area'] = parcelles.apply(lambda x: x['geometry'].area, axis=1)"
   ]
  },
  {
   "cell_type": "markdown",
   "metadata": {},
   "source": [
    "Adding value per unit area"
   ]
  },
  {
   "cell_type": "code",
   "execution_count": 56,
   "metadata": {},
   "outputs": [],
   "source": [
    "parcelles['value per unit area'] = parcelles.apply(lambda x: x['value'] / x['area'], axis=1)"
   ]
  },
  {
   "cell_type": "markdown",
   "metadata": {},
   "source": [
    "Transforming the centroid tuple to two separate features coord1 and coord2. "
   ]
  },
  {
   "cell_type": "code",
   "execution_count": 57,
   "metadata": {},
   "outputs": [],
   "source": [
    "parcelles['coord1'] = parcelles.apply(lambda x: float(x['centroid'].split()[0]), axis=1)\n",
    "parcelles['coord2'] = parcelles.apply(lambda x: float(x['centroid'].split()[1][:-1]), axis=1)"
   ]
  },
  {
   "cell_type": "code",
   "execution_count": 58,
   "metadata": {},
   "outputs": [
    {
     "data": {
      "text/html": [
       "<div>\n",
       "<style scoped>\n",
       "    .dataframe tbody tr th:only-of-type {\n",
       "        vertical-align: middle;\n",
       "    }\n",
       "\n",
       "    .dataframe tbody tr th {\n",
       "        vertical-align: top;\n",
       "    }\n",
       "\n",
       "    .dataframe thead th {\n",
       "        text-align: right;\n",
       "    }\n",
       "</style>\n",
       "<table border=\"1\" class=\"dataframe\">\n",
       "  <thead>\n",
       "    <tr style=\"text-align: right;\">\n",
       "      <th></th>\n",
       "      <th>id</th>\n",
       "      <th>geometry</th>\n",
       "      <th>value</th>\n",
       "      <th>centroid</th>\n",
       "      <th>area</th>\n",
       "      <th>value per unit area</th>\n",
       "      <th>coord1</th>\n",
       "      <th>coord2</th>\n",
       "    </tr>\n",
       "  </thead>\n",
       "  <tbody>\n",
       "    <tr>\n",
       "      <th>0</th>\n",
       "      <td>75104000AB0024</td>\n",
       "      <td>POLYGON ((652387.160 6862568.564, 652376.080 6...</td>\n",
       "      <td>1095050.0</td>\n",
       "      <td>652388.4665793044 6862578.89401630</td>\n",
       "      <td>769.737559</td>\n",
       "      <td>1422.627736</td>\n",
       "      <td>652388.466579</td>\n",
       "      <td>6.862579e+06</td>\n",
       "    </tr>\n",
       "    <tr>\n",
       "      <th>1</th>\n",
       "      <td>75104000AB0007</td>\n",
       "      <td>POLYGON ((652302.282 6862535.980, 652316.008 6...</td>\n",
       "      <td>900000.0</td>\n",
       "      <td>652309.0483151362 6862525.34195575</td>\n",
       "      <td>270.228614</td>\n",
       "      <td>3330.513324</td>\n",
       "      <td>652309.048315</td>\n",
       "      <td>6.862525e+06</td>\n",
       "    </tr>\n",
       "    <tr>\n",
       "      <th>2</th>\n",
       "      <td>75104000AB0005</td>\n",
       "      <td>POLYGON ((652321.329 6862524.514, 652321.672 6...</td>\n",
       "      <td>1170000.0</td>\n",
       "      <td>652326.5254815343 6862510.59281880</td>\n",
       "      <td>367.888735</td>\n",
       "      <td>3180.309395</td>\n",
       "      <td>652326.525482</td>\n",
       "      <td>6.862511e+06</td>\n",
       "    </tr>\n",
       "    <tr>\n",
       "      <th>3</th>\n",
       "      <td>75104000AB0006</td>\n",
       "      <td>POLYGON ((652317.812 6862515.258, 652314.441 6...</td>\n",
       "      <td>9250.0</td>\n",
       "      <td>652305.5401049532 6862513.59320300</td>\n",
       "      <td>258.099244</td>\n",
       "      <td>35.838927</td>\n",
       "      <td>652305.540105</td>\n",
       "      <td>6.862514e+06</td>\n",
       "    </tr>\n",
       "    <tr>\n",
       "      <th>4</th>\n",
       "      <td>75107000AB0020</td>\n",
       "      <td>POLYGON ((650904.873 6862289.772, 650898.141 6...</td>\n",
       "      <td>1421000.0</td>\n",
       "      <td>650881.7360123787 6862291.79811618</td>\n",
       "      <td>1980.196897</td>\n",
       "      <td>717.605407</td>\n",
       "      <td>650881.736012</td>\n",
       "      <td>6.862292e+06</td>\n",
       "    </tr>\n",
       "    <tr>\n",
       "      <th>...</th>\n",
       "      <td>...</td>\n",
       "      <td>...</td>\n",
       "      <td>...</td>\n",
       "      <td>...</td>\n",
       "      <td>...</td>\n",
       "      <td>...</td>\n",
       "      <td>...</td>\n",
       "      <td>...</td>\n",
       "    </tr>\n",
       "    <tr>\n",
       "      <th>20332</th>\n",
       "      <td>75120000EC0022</td>\n",
       "      <td>POLYGON ((656703.246 6861090.670, 656719.419 6...</td>\n",
       "      <td>892760.0</td>\n",
       "      <td>656737.9322804684 6861070.34990130</td>\n",
       "      <td>2927.089228</td>\n",
       "      <td>304.999243</td>\n",
       "      <td>656737.932280</td>\n",
       "      <td>6.861070e+06</td>\n",
       "    </tr>\n",
       "    <tr>\n",
       "      <th>20333</th>\n",
       "      <td>75120000EC0020</td>\n",
       "      <td>POLYGON ((656773.321 6861028.299, 656771.763 6...</td>\n",
       "      <td>271000.0</td>\n",
       "      <td>656762.835613881 6861021.757546067</td>\n",
       "      <td>296.599344</td>\n",
       "      <td>913.690490</td>\n",
       "      <td>656762.835614</td>\n",
       "      <td>6.861022e+06</td>\n",
       "    </tr>\n",
       "    <tr>\n",
       "      <th>20334</th>\n",
       "      <td>75120000EC0025</td>\n",
       "      <td>POLYGON ((656756.551 6861110.777, 656757.578 6...</td>\n",
       "      <td>250000.0</td>\n",
       "      <td>656769.9869474501 6861122.92055497</td>\n",
       "      <td>681.156996</td>\n",
       "      <td>367.022583</td>\n",
       "      <td>656769.986947</td>\n",
       "      <td>6.861123e+06</td>\n",
       "    </tr>\n",
       "    <tr>\n",
       "      <th>20335</th>\n",
       "      <td>75120000EC0028</td>\n",
       "      <td>POLYGON ((656758.172 6861152.886, 656758.347 6...</td>\n",
       "      <td>270705.0</td>\n",
       "      <td>656765.142739725 6861147.597472253</td>\n",
       "      <td>301.293131</td>\n",
       "      <td>898.477171</td>\n",
       "      <td>656765.142740</td>\n",
       "      <td>6.861148e+06</td>\n",
       "    </tr>\n",
       "    <tr>\n",
       "      <th>20336</th>\n",
       "      <td>75120000EC0027</td>\n",
       "      <td>POLYGON ((656772.961 6861158.114, 656783.472 6...</td>\n",
       "      <td>320800.0</td>\n",
       "      <td>656779.3763486281 6861152.76756873</td>\n",
       "      <td>137.694198</td>\n",
       "      <td>2329.800412</td>\n",
       "      <td>656779.376349</td>\n",
       "      <td>6.861153e+06</td>\n",
       "    </tr>\n",
       "  </tbody>\n",
       "</table>\n",
       "<p>20337 rows × 8 columns</p>\n",
       "</div>"
      ],
      "text/plain": [
       "                   id                                           geometry  \\\n",
       "0      75104000AB0024  POLYGON ((652387.160 6862568.564, 652376.080 6...   \n",
       "1      75104000AB0007  POLYGON ((652302.282 6862535.980, 652316.008 6...   \n",
       "2      75104000AB0005  POLYGON ((652321.329 6862524.514, 652321.672 6...   \n",
       "3      75104000AB0006  POLYGON ((652317.812 6862515.258, 652314.441 6...   \n",
       "4      75107000AB0020  POLYGON ((650904.873 6862289.772, 650898.141 6...   \n",
       "...               ...                                                ...   \n",
       "20332  75120000EC0022  POLYGON ((656703.246 6861090.670, 656719.419 6...   \n",
       "20333  75120000EC0020  POLYGON ((656773.321 6861028.299, 656771.763 6...   \n",
       "20334  75120000EC0025  POLYGON ((656756.551 6861110.777, 656757.578 6...   \n",
       "20335  75120000EC0028  POLYGON ((656758.172 6861152.886, 656758.347 6...   \n",
       "20336  75120000EC0027  POLYGON ((656772.961 6861158.114, 656783.472 6...   \n",
       "\n",
       "           value                            centroid         area  \\\n",
       "0      1095050.0  652388.4665793044 6862578.89401630   769.737559   \n",
       "1       900000.0  652309.0483151362 6862525.34195575   270.228614   \n",
       "2      1170000.0  652326.5254815343 6862510.59281880   367.888735   \n",
       "3         9250.0  652305.5401049532 6862513.59320300   258.099244   \n",
       "4      1421000.0  650881.7360123787 6862291.79811618  1980.196897   \n",
       "...          ...                                 ...          ...   \n",
       "20332   892760.0  656737.9322804684 6861070.34990130  2927.089228   \n",
       "20333   271000.0  656762.835613881 6861021.757546067   296.599344   \n",
       "20334   250000.0  656769.9869474501 6861122.92055497   681.156996   \n",
       "20335   270705.0  656765.142739725 6861147.597472253   301.293131   \n",
       "20336   320800.0  656779.3763486281 6861152.76756873   137.694198   \n",
       "\n",
       "       value per unit area         coord1        coord2  \n",
       "0              1422.627736  652388.466579  6.862579e+06  \n",
       "1              3330.513324  652309.048315  6.862525e+06  \n",
       "2              3180.309395  652326.525482  6.862511e+06  \n",
       "3                35.838927  652305.540105  6.862514e+06  \n",
       "4               717.605407  650881.736012  6.862292e+06  \n",
       "...                    ...            ...           ...  \n",
       "20332           304.999243  656737.932280  6.861070e+06  \n",
       "20333           913.690490  656762.835614  6.861022e+06  \n",
       "20334           367.022583  656769.986947  6.861123e+06  \n",
       "20335           898.477171  656765.142740  6.861148e+06  \n",
       "20336          2329.800412  656779.376349  6.861153e+06  \n",
       "\n",
       "[20337 rows x 8 columns]"
      ]
     },
     "execution_count": 58,
     "metadata": {},
     "output_type": "execute_result"
    }
   ],
   "source": [
    "parcelles"
   ]
  },
  {
   "cell_type": "markdown",
   "metadata": {},
   "source": [
    "Final check to see if the datatypes are correct"
   ]
  },
  {
   "cell_type": "code",
   "execution_count": 59,
   "metadata": {},
   "outputs": [
    {
     "data": {
      "text/plain": [
       "id                       object\n",
       "geometry               geometry\n",
       "value                    object\n",
       "centroid                 object\n",
       "area                    float64\n",
       "value per unit area     float64\n",
       "coord1                  float64\n",
       "coord2                  float64\n",
       "dtype: object"
      ]
     },
     "execution_count": 59,
     "metadata": {},
     "output_type": "execute_result"
    }
   ],
   "source": [
    "parcelles.dtypes"
   ]
  },
  {
   "cell_type": "markdown",
   "metadata": {},
   "source": [
    "##### Creating the final DataFrame"
   ]
  },
  {
   "cell_type": "code",
   "execution_count": 60,
   "metadata": {},
   "outputs": [
    {
     "data": {
      "text/html": [
       "<div>\n",
       "<style scoped>\n",
       "    .dataframe tbody tr th:only-of-type {\n",
       "        vertical-align: middle;\n",
       "    }\n",
       "\n",
       "    .dataframe tbody tr th {\n",
       "        vertical-align: top;\n",
       "    }\n",
       "\n",
       "    .dataframe thead th {\n",
       "        text-align: right;\n",
       "    }\n",
       "</style>\n",
       "<table border=\"1\" class=\"dataframe\">\n",
       "  <thead>\n",
       "    <tr style=\"text-align: right;\">\n",
       "      <th></th>\n",
       "      <th>coord1</th>\n",
       "      <th>coord2</th>\n",
       "      <th>value per unit area</th>\n",
       "    </tr>\n",
       "  </thead>\n",
       "  <tbody>\n",
       "    <tr>\n",
       "      <th>0</th>\n",
       "      <td>652388.466579</td>\n",
       "      <td>6.862579e+06</td>\n",
       "      <td>1422.627736</td>\n",
       "    </tr>\n",
       "    <tr>\n",
       "      <th>1</th>\n",
       "      <td>652309.048315</td>\n",
       "      <td>6.862525e+06</td>\n",
       "      <td>3330.513324</td>\n",
       "    </tr>\n",
       "    <tr>\n",
       "      <th>2</th>\n",
       "      <td>652326.525482</td>\n",
       "      <td>6.862511e+06</td>\n",
       "      <td>3180.309395</td>\n",
       "    </tr>\n",
       "    <tr>\n",
       "      <th>3</th>\n",
       "      <td>652305.540105</td>\n",
       "      <td>6.862514e+06</td>\n",
       "      <td>35.838927</td>\n",
       "    </tr>\n",
       "    <tr>\n",
       "      <th>4</th>\n",
       "      <td>650881.736012</td>\n",
       "      <td>6.862292e+06</td>\n",
       "      <td>717.605407</td>\n",
       "    </tr>\n",
       "    <tr>\n",
       "      <th>...</th>\n",
       "      <td>...</td>\n",
       "      <td>...</td>\n",
       "      <td>...</td>\n",
       "    </tr>\n",
       "    <tr>\n",
       "      <th>20332</th>\n",
       "      <td>656737.932280</td>\n",
       "      <td>6.861070e+06</td>\n",
       "      <td>304.999243</td>\n",
       "    </tr>\n",
       "    <tr>\n",
       "      <th>20333</th>\n",
       "      <td>656762.835614</td>\n",
       "      <td>6.861022e+06</td>\n",
       "      <td>913.690490</td>\n",
       "    </tr>\n",
       "    <tr>\n",
       "      <th>20334</th>\n",
       "      <td>656769.986947</td>\n",
       "      <td>6.861123e+06</td>\n",
       "      <td>367.022583</td>\n",
       "    </tr>\n",
       "    <tr>\n",
       "      <th>20335</th>\n",
       "      <td>656765.142740</td>\n",
       "      <td>6.861148e+06</td>\n",
       "      <td>898.477171</td>\n",
       "    </tr>\n",
       "    <tr>\n",
       "      <th>20336</th>\n",
       "      <td>656779.376349</td>\n",
       "      <td>6.861153e+06</td>\n",
       "      <td>2329.800412</td>\n",
       "    </tr>\n",
       "  </tbody>\n",
       "</table>\n",
       "<p>20337 rows × 3 columns</p>\n",
       "</div>"
      ],
      "text/plain": [
       "              coord1        coord2  value per unit area\n",
       "0      652388.466579  6.862579e+06          1422.627736\n",
       "1      652309.048315  6.862525e+06          3330.513324\n",
       "2      652326.525482  6.862511e+06          3180.309395\n",
       "3      652305.540105  6.862514e+06            35.838927\n",
       "4      650881.736012  6.862292e+06           717.605407\n",
       "...              ...           ...                  ...\n",
       "20332  656737.932280  6.861070e+06           304.999243\n",
       "20333  656762.835614  6.861022e+06           913.690490\n",
       "20334  656769.986947  6.861123e+06           367.022583\n",
       "20335  656765.142740  6.861148e+06           898.477171\n",
       "20336  656779.376349  6.861153e+06          2329.800412\n",
       "\n",
       "[20337 rows x 3 columns]"
      ]
     },
     "execution_count": 60,
     "metadata": {},
     "output_type": "execute_result"
    }
   ],
   "source": [
    "final_data = parcelles[['coord1','coord2','value per unit area']]\n",
    "final_data"
   ]
  },
  {
   "cell_type": "code",
   "execution_count": 61,
   "metadata": {},
   "outputs": [
    {
     "data": {
      "text/plain": [
       "count    2.033700e+04\n",
       "mean     5.289143e+03\n",
       "std      2.363298e+05\n",
       "min      0.000000e+00\n",
       "25%      6.365596e+02\n",
       "50%      1.407298e+03\n",
       "75%      2.817730e+03\n",
       "max      3.357087e+07\n",
       "Name: value per unit area, dtype: float64"
      ]
     },
     "execution_count": 61,
     "metadata": {},
     "output_type": "execute_result"
    }
   ],
   "source": [
    "final_data['value per unit area'].describe()"
   ]
  },
  {
   "cell_type": "markdown",
   "metadata": {},
   "source": [
    "## Training"
   ]
  },
  {
   "cell_type": "markdown",
   "metadata": {},
   "source": [
    "#### Shuffling the data and train / test split"
   ]
  },
  {
   "cell_type": "code",
   "execution_count": 62,
   "metadata": {},
   "outputs": [],
   "source": [
    "final_data = shuffle(final_data)"
   ]
  },
  {
   "cell_type": "code",
   "execution_count": 82,
   "metadata": {},
   "outputs": [],
   "source": [
    "train , test = train_test_split(final_data, test_size = 0.3)\n",
    "\n",
    "x_train = train.drop('value per unit area', axis=1)\n",
    "y_train = train['value per unit area']\n",
    "\n",
    "x_test = test.drop('value per unit area', axis = 1)\n",
    "y_test = test['value per unit area']"
   ]
  },
  {
   "cell_type": "markdown",
   "metadata": {},
   "source": [
    "#### Using kNeighborsRegressor of sklearn in order to train the model.\n",
    "I am choosing MAE over RMSE due to the fact that RMSE penalized outliers much more than MAE and since I don't know the data in depth, I need to be more conservative. "
   ]
  },
  {
   "cell_type": "markdown",
   "metadata": {},
   "source": [
    "As a rule of thumb, the value of k in the algorithm needs to be sqrt(n) where n is the sample size. However, I am changing the value of k in steps of 10, from 5, to sqrt(n) + 10."
   ]
  },
  {
   "cell_type": "code",
   "execution_count": 85,
   "metadata": {},
   "outputs": [
    {
     "name": "stdout",
     "output_type": "stream",
     "text": [
      "MAE value for k = 5, is: 4657.926521897076\n",
      "MAE value for k = 15, is: 5073.352302071093\n",
      "MAE value for k = 25, is: 5299.612635631734\n",
      "MAE value for k = 35, is: 5291.064993881266\n",
      "MAE value for k = 45, is: 6101.318284013806\n",
      "MAE value for k = 55, is: 5831.270210024911\n",
      "MAE value for k = 65, is: 5625.202838964803\n",
      "MAE value for k = 75, is: 5707.274413611897\n",
      "MAE value for k = 85, is: 5519.500224043084\n",
      "MAE value for k = 95, is: 5530.526939131295\n",
      "MAE value for k = 105, is: 5433.581426541405\n",
      "MAE value for k = 115, is: 5352.298616652516\n",
      "MAE value for k = 125, is: 5234.995889529054\n",
      "MAE value for k = 135, is: 5171.981928508194\n",
      "MAE value for k = 145, is: 5080.125605262487\n"
     ]
    }
   ],
   "source": [
    "mae = []\n",
    "\n",
    "for k in range(5, int(sqrt(len(final_data)))+10, 10):\n",
    "    model = neighbors.KNeighborsRegressor(n_neighbors = k)\n",
    "    model.fit(x_train, y_train)\n",
    "    pred = model.predict(x_test)\n",
    "    mae.append(mean_absolute_error(y_test,pred))\n",
    "    print(f'MAE value for k = {k}, is: {mean_absolute_error(y_test,pred)}')\n",
    "    "
   ]
  },
  {
   "cell_type": "markdown",
   "metadata": {},
   "source": [
    "Plotting the test MAE with respect to the different k values. We clearly see that for the k = 5 we have the best performance. "
   ]
  },
  {
   "cell_type": "code",
   "execution_count": 86,
   "metadata": {},
   "outputs": [
    {
     "data": {
      "image/png": "[encoded data removed]",
      "text/plain": [
       "<Figure size 864x432 with 1 Axes>"
      ]
     },
     "metadata": {
      "needs_background": "light"
     },
     "output_type": "display_data"
    }
   ],
   "source": [
    "plt.figure(figsize=(12, 6))\n",
    "plt.plot(range(5, int(sqrt(len(final_data))+10), 10), mae, color='red', \n",
    "         linestyle='dashed', marker='o',\n",
    "         markerfacecolor='blue', markersize=10)\n",
    "         \n",
    "plt.title('MAE for different k Values')\n",
    "plt.xlabel('K Value')\n",
    "plt.ylabel('Mean Absolute Error')\n",
    "plt.show()"
   ]
  },
  {
   "cell_type": "code",
   "execution_count": null,
   "metadata": {},
   "outputs": [],
   "source": []
  }
 ],
 "metadata": {
  "kernelspec": {
   "display_name": "Python 3.9.12 ('base')",
   "language": "python",
   "name": "python3"
  },
  "language_info": {
   "codemirror_mode": {
    "name": "ipython",
    "version": 3
   },
   "file_extension": ".py",
   "mimetype": "text/x-python",
   "name": "python",
   "nbconvert_exporter": "python",
   "pygments_lexer": "ipython3",
   "version": "3.9.12"
  },
  "orig_nbformat": 4,
  "vscode": {
   "interpreter": {
    "hash": "7d614c7e3403b65c4ead35974438caaf3f219e12705c7169852252209fa852a1"
   }
  }
 },
 "nbformat": 4,
 "nbformat_minor": 2
}
